{
 "cells": [
  {
   "cell_type": "code",
   "execution_count": 2,
   "id": "c3ceec20",
   "metadata": {},
   "outputs": [
    {
     "name": "stdout",
     "output_type": "stream",
     "text": [
      "Note: you may need to restart the kernel to use updated packages.\n"
     ]
    },
    {
     "name": "stderr",
     "output_type": "stream",
     "text": [
      "  WARNING: The scripts fonttools.exe, pyftmerge.exe, pyftsubset.exe and ttx.exe are installed in 'd:\\Medical NLP\\.conda\\Scripts' which is not on PATH.\n",
      "  Consider adding this directory to PATH or, if you prefer to suppress this warning, use --no-warn-script-location.\n"
     ]
    }
   ],
   "source": [
    "%pip install -q matplotlib"
   ]
  },
  {
   "cell_type": "code",
   "execution_count": 1,
   "id": "0bc98534",
   "metadata": {},
   "outputs": [],
   "source": [
    "import numpy as np\n",
    "import matplotlib.pyplot as plt\n",
    "from scipy.io import wavfile\n",
    "from scipy.signal import convolve"
   ]
  },
  {
   "cell_type": "code",
   "execution_count": 2,
   "id": "0c77ca8b",
   "metadata": {},
   "outputs": [],
   "source": [
    "rate, data = wavfile.read(\"10-second-count-down.wav\")\n",
    "data = data.astype(np.float32)\n",
    "\n",
    "\n",
    "if data.ndim > 1:\n",
    "    data = data[:, 0]"
   ]
  },
  {
   "cell_type": "code",
   "execution_count": 3,
   "id": "535b8ae4",
   "metadata": {},
   "outputs": [
    {
     "name": "stdout",
     "output_type": "stream",
     "text": [
      "291456\n"
     ]
    }
   ],
   "source": [
    "print(len(data))"
   ]
  },
  {
   "cell_type": "code",
   "execution_count": 7,
   "id": "5bbca98e",
   "metadata": {},
   "outputs": [],
   "source": [
    "# (a) Scaling (volume change)\n",
    "scaled = 0.2 * data   # reduce volume"
   ]
  },
  {
   "cell_type": "code",
   "execution_count": 8,
   "id": "54d67134",
   "metadata": {},
   "outputs": [],
   "source": [
    "wavfile.write(\"scaled.wav\", rate, scaled.astype(np.int16))"
   ]
  },
  {
   "cell_type": "code",
   "execution_count": 11,
   "id": "4dc9c75c",
   "metadata": {},
   "outputs": [],
   "source": [
    "reflected = -data\n",
    "\n",
    "wavfile.write(\"reflected.wav\", rate, reflected.astype(np.int16))"
   ]
  },
  {
   "cell_type": "code",
   "execution_count": 12,
   "id": "ea73d9b3",
   "metadata": {},
   "outputs": [],
   "source": [
    "reversed_audio = data[::-1]\n",
    "\n",
    "wavfile.write(\"reversed.wav\", rate, reversed_audio.astype(np.int16))"
   ]
  },
  {
   "cell_type": "code",
   "execution_count": 13,
   "id": "4b317d4d",
   "metadata": {},
   "outputs": [],
   "source": [
    "kernel = np.ones(10) / 10   # 10-sample moving average\n",
    "filtered = convolve(data, kernel, mode=\"same\")"
   ]
  },
  {
   "cell_type": "code",
   "execution_count": 14,
   "id": "a410c8b3",
   "metadata": {},
   "outputs": [],
   "source": [
    "wavfile.write(\"filtered.wav\", rate, filtered.astype(np.int16))"
   ]
  },
  {
   "cell_type": "code",
   "execution_count": null,
   "id": "1002e337",
   "metadata": {},
   "outputs": [],
   "source": []
  }
 ],
 "metadata": {
  "kernelspec": {
   "display_name": ".conda",
   "language": "python",
   "name": "python3"
  },
  "language_info": {
   "codemirror_mode": {
    "name": "ipython",
    "version": 3
   },
   "file_extension": ".py",
   "mimetype": "text/x-python",
   "name": "python",
   "nbconvert_exporter": "python",
   "pygments_lexer": "ipython3",
   "version": "3.12.7"
  }
 },
 "nbformat": 4,
 "nbformat_minor": 5
}
